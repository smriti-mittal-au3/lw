{
  "nbformat": 4,
  "nbformat_minor": 0,
  "metadata": {
    "colab": {
      "provenance": [],
      "authorship_tag": "ABX9TyOQ+9wzSTdrCgqfgc2fR5h0",
      "include_colab_link": true
    },
    "kernelspec": {
      "name": "python3",
      "display_name": "Python 3"
    },
    "language_info": {
      "name": "python"
    }
  },
  "cells": [
    {
      "cell_type": "markdown",
      "metadata": {
        "id": "view-in-github",
        "colab_type": "text"
      },
      "source": [
        "<a href=\"https://colab.research.google.com/github/smriti-mittal-au3/lw/blob/main/Make_your_own_GPT.ipynb\" target=\"_parent\"><img src=\"https://colab.research.google.com/assets/colab-badge.svg\" alt=\"Open In Colab\"/></a>"
      ]
    },
    {
      "cell_type": "code",
      "execution_count": 2,
      "metadata": {
        "colab": {
          "base_uri": "https://localhost:8080/"
        },
        "id": "DOibdBJzZkUq",
        "outputId": "485215dc-60a1-4f85-8ad9-1279df55a5fe"
      },
      "outputs": [
        {
          "output_type": "stream",
          "name": "stdout",
          "text": [
            "--2025-08-05 04:18:50--  https://raw.githubusercontent.com/karpathy/char-rnn/refs/heads/master/data/tinyshakespeare/input.txt\n",
            "Resolving raw.githubusercontent.com (raw.githubusercontent.com)... 185.199.110.133, 185.199.109.133, 185.199.108.133, ...\n",
            "Connecting to raw.githubusercontent.com (raw.githubusercontent.com)|185.199.110.133|:443... connected.\n",
            "HTTP request sent, awaiting response... 200 OK\n",
            "Length: 1115394 (1.1M) [text/plain]\n",
            "Saving to: ‘input.txt’\n",
            "\n",
            "input.txt           100%[===================>]   1.06M  --.-KB/s    in 0.09s   \n",
            "\n",
            "2025-08-05 04:18:50 (12.2 MB/s) - ‘input.txt’ saved [1115394/1115394]\n",
            "\n"
          ]
        }
      ],
      "source": [
        "# saves a input.txt locally\n",
        "# is 1MB\n",
        "\n",
        "!wget https://raw.githubusercontent.com/karpathy/char-rnn/refs/heads/master/data/tinyshakespeare/input.txt"
      ]
    },
    {
      "cell_type": "code",
      "source": [
        "# read it in to inspect it\n",
        "# 'r' = read\n",
        "# encoding = utf-8 ? = text files are stored as bytes. so, encoding tells python how to convert it to chars\n",
        "# ascii = is just plain english. utf-16 = is old ? ... hmm\n",
        "# read() = read as string\n",
        "with open('input.txt', 'r', encoding='utf-8') as f:\n",
        "    text = f.read()"
      ],
      "metadata": {
        "id": "zkSVlAbpacaK"
      },
      "execution_count": 3,
      "outputs": []
    },
    {
      "cell_type": "code",
      "source": [
        "# == 1M chars roughly\n",
        "print(\"length of dataset in characters: \", len(text))"
      ],
      "metadata": {
        "colab": {
          "base_uri": "https://localhost:8080/"
        },
        "id": "WT5Fnm4ycaps",
        "outputId": "58342771-a350-4331-b643-31dc9b0139e6"
      },
      "execution_count": 4,
      "outputs": [
        {
          "output_type": "stream",
          "name": "stdout",
          "text": [
            "length of dataset in characters:  1115394\n"
          ]
        }
      ]
    },
    {
      "cell_type": "code",
      "source": [
        "print(list(set(text)))\n",
        "print(set(text))"
      ],
      "metadata": {
        "colab": {
          "base_uri": "https://localhost:8080/"
        },
        "id": "4VJvckmbcimy",
        "outputId": "e8718101-c727-4bbc-8f7b-3b6d93b126fb"
      },
      "execution_count": 4,
      "outputs": [
        {
          "output_type": "stream",
          "name": "stdout",
          "text": [
            "['Z', \"'\", 'K', 'w', 'l', '?', 'p', 'o', '-', 'L', 'z', 'i', '.', 'x', 'n', '&', 'q', ',', 's', 'A', 'V', '$', ' ', '!', 't', 'P', 'I', 'G', 'Y', 'b', 'R', 'E', 'k', 'T', 'X', '\\n', 'M', ';', 'h', 'U', 'j', 'e', 'u', 'f', 'd', 'y', 'O', 'c', 'D', '3', 'Q', 'C', 'a', 'F', 'r', 'm', 'H', 'B', 'J', 'W', 'S', 'N', ':', 'g', 'v']\n",
            "{'Z', \"'\", 'K', 'w', 'l', '?', 'p', 'o', '-', 'L', 'z', 'i', '.', 'x', 'n', '&', 'q', ',', 's', 'A', 'V', '$', ' ', '!', 't', 'P', 'I', 'G', 'Y', 'b', 'R', 'E', 'k', 'T', 'X', '\\n', 'M', ';', 'h', 'U', 'j', 'e', 'u', 'f', 'd', 'y', 'O', 'c', 'D', '3', 'Q', 'C', 'a', 'F', 'r', 'm', 'H', 'B', 'J', 'W', 'S', 'N', ':', 'g', 'v'}\n"
          ]
        }
      ]
    },
    {
      "cell_type": "code",
      "source": [
        "print(sorted(list(set(text))))\n"
      ],
      "metadata": {
        "colab": {
          "base_uri": "https://localhost:8080/"
        },
        "id": "B7HfCnQvc-00",
        "outputId": "bad77642-8055-467e-c1e2-222f1b06cfa8"
      },
      "execution_count": 9,
      "outputs": [
        {
          "output_type": "stream",
          "name": "stdout",
          "text": [
            "['\\n', ' ', '!', '$', '&', \"'\", ',', '-', '.', '3', ':', ';', '?', 'A', 'B', 'C', 'D', 'E', 'F', 'G', 'H', 'I', 'J', 'K', 'L', 'M', 'N', 'O', 'P', 'Q', 'R', 'S', 'T', 'U', 'V', 'W', 'X', 'Y', 'Z', 'a', 'b', 'c', 'd', 'e', 'f', 'g', 'h', 'i', 'j', 'k', 'l', 'm', 'n', 'o', 'p', 'q', 'r', 's', 't', 'u', 'v', 'w', 'x', 'y', 'z']\n"
          ]
        }
      ]
    },
    {
      "cell_type": "code",
      "source": [
        "# here are all the unique characters that occur in this text\n",
        "chars = sorted(list(set(text)))\n",
        "vocab = ''.join(chars)\n",
        "# why is \\n new line not in vocabulary?\n",
        "print(vocab)\n",
        "vocab_size = len(chars)\n",
        "print(vocab_size)"
      ],
      "metadata": {
        "colab": {
          "base_uri": "https://localhost:8080/"
        },
        "id": "mtq2DqTddQCw",
        "outputId": "e664b0a4-abd6-4667-8ca2-5169580215bc"
      },
      "execution_count": 5,
      "outputs": [
        {
          "output_type": "stream",
          "name": "stdout",
          "text": [
            "\n",
            " !$&',-.3:;?ABCDEFGHIJKLMNOPQRSTUVWXYZabcdefghijklmnopqrstuvwxyz\n",
            "65\n"
          ]
        }
      ]
    },
    {
      "cell_type": "code",
      "source": [
        "# just assign numbers from 0, 1, 2, 3 ... to chars\n",
        "# so our tokenizer is very simple = converting chars to int or tokens\n",
        "# google uses https://github.com/google/sentencepiece - sub-word unit level. so, not at word level nor at char level\n",
        "# openai / gpt uses https://github.com/openai/tiktoken\n",
        "stoi = { ch:i for i,ch in enumerate(chars) }\n",
        "itos = { i:ch for i,ch in enumerate(chars) }\n",
        "\n",
        "# lambda == def any_func():\n",
        "encode = lambda s: [stoi[c] for c in s]          # encoder: take a string, output a list of integers\n",
        "decode = lambda i: ''.join([itos[c] for c in i]) # decoder: take a list of integers, output a string\n",
        "\n",
        "print(stoi)\n",
        "print(itos)\n",
        "print(encode(\"hii there\"))\n",
        "print(decode(encode(\"hii there\")))"
      ],
      "metadata": {
        "colab": {
          "base_uri": "https://localhost:8080/"
        },
        "id": "db22fRmjdb0n",
        "outputId": "0edc62c3-6fe4-45e9-fd30-8c9352e3d065"
      },
      "execution_count": 16,
      "outputs": [
        {
          "output_type": "stream",
          "name": "stdout",
          "text": [
            "{'\\n': 0, ' ': 1, '!': 2, '$': 3, '&': 4, \"'\": 5, ',': 6, '-': 7, '.': 8, '3': 9, ':': 10, ';': 11, '?': 12, 'A': 13, 'B': 14, 'C': 15, 'D': 16, 'E': 17, 'F': 18, 'G': 19, 'H': 20, 'I': 21, 'J': 22, 'K': 23, 'L': 24, 'M': 25, 'N': 26, 'O': 27, 'P': 28, 'Q': 29, 'R': 30, 'S': 31, 'T': 32, 'U': 33, 'V': 34, 'W': 35, 'X': 36, 'Y': 37, 'Z': 38, 'a': 39, 'b': 40, 'c': 41, 'd': 42, 'e': 43, 'f': 44, 'g': 45, 'h': 46, 'i': 47, 'j': 48, 'k': 49, 'l': 50, 'm': 51, 'n': 52, 'o': 53, 'p': 54, 'q': 55, 'r': 56, 's': 57, 't': 58, 'u': 59, 'v': 60, 'w': 61, 'x': 62, 'y': 63, 'z': 64}\n",
            "{0: '\\n', 1: ' ', 2: '!', 3: '$', 4: '&', 5: \"'\", 6: ',', 7: '-', 8: '.', 9: '3', 10: ':', 11: ';', 12: '?', 13: 'A', 14: 'B', 15: 'C', 16: 'D', 17: 'E', 18: 'F', 19: 'G', 20: 'H', 21: 'I', 22: 'J', 23: 'K', 24: 'L', 25: 'M', 26: 'N', 27: 'O', 28: 'P', 29: 'Q', 30: 'R', 31: 'S', 32: 'T', 33: 'U', 34: 'V', 35: 'W', 36: 'X', 37: 'Y', 38: 'Z', 39: 'a', 40: 'b', 41: 'c', 42: 'd', 43: 'e', 44: 'f', 45: 'g', 46: 'h', 47: 'i', 48: 'j', 49: 'k', 50: 'l', 51: 'm', 52: 'n', 53: 'o', 54: 'p', 55: 'q', 56: 'r', 57: 's', 58: 't', 59: 'u', 60: 'v', 61: 'w', 62: 'x', 63: 'y', 64: 'z'}\n",
            "[46, 47, 47, 1, 58, 46, 43, 56, 43]\n",
            "hii there\n"
          ]
        }
      ]
    },
    {
      "cell_type": "code",
      "source": [
        "# didn't have to pip install tiktoken\n",
        "import tiktoken\n",
        "\n",
        "# encoding_for_model vs get_encoding ?\n",
        "enc4o = tiktoken.encoding_for_model(\"gpt-4o\")\n",
        "print(enc4o) # o200k_base\n",
        "\n",
        "enc2 = tiktoken.encoding_for_model(\"gpt2\")\n",
        "print(enc2) # gpt2\n",
        "\n",
        "enc2_vocab = tiktoken.get_encoding(\"gpt2\")\n",
        "# 50,257\n",
        "print(enc2_vocab.n_vocab)\n",
        "\n",
        "enc4o_vocab = tiktoken.get_encoding(\"o200k_base\")\n",
        "# 2,00,019\n",
        "print(enc4o_vocab.n_vocab)\n",
        "\n",
        "# [71, 4178, 612]\n",
        "# [71, 3573, 1354]\n",
        "# [46, 47, 47, 1, 58, 46, 43, 56, 43]\n",
        "print(enc2_vocab.encode(\"hii there\"))\n",
        "print(enc4o_vocab.encode(\"hii there\"))\n",
        "print(encode(\"hii there\")) # our vocab is just 65 int, and bigger sequence\n"
      ],
      "metadata": {
        "colab": {
          "base_uri": "https://localhost:8080/"
        },
        "id": "vat9DHbPqLiz",
        "outputId": "8010675d-84fb-4182-a53a-3bbf0880785e"
      },
      "execution_count": 18,
      "outputs": [
        {
          "output_type": "stream",
          "name": "stdout",
          "text": [
            "<Encoding 'o200k_base'>\n",
            "<Encoding 'gpt2'>\n",
            "50257\n",
            "200019\n",
            "[71, 4178, 612]\n",
            "[71, 3573, 1354]\n",
            "[46, 47, 47, 1, 58, 46, 43, 56, 43]\n"
          ]
        }
      ]
    },
    {
      "cell_type": "code",
      "source": [
        "# let's tokenize the whole of shakespeare\n",
        "# why not just encode and be done with it? why store in torch tensor? what is that? how is it able to store?\n",
        "data_ = encode(text)\n",
        "# [18, 47, 56, 57, 58, 1, 15, 47, 58, 47]\n",
        "print(data_[:10])\n",
        "\n",
        "import torch\n",
        "# datatype float32 (32-bit floating point) vs long (64-bit integer)\n",
        "# 32 bit vs 64 bit?\n",
        "data = torch.tensor(data_, dtype=torch.long)\n",
        "print(data.shape, data.dtype)\n",
        "# float32: tensor([18., 47., 56., 57., 58.,  1., 15., 47., 58., 47.])\n",
        "# long: tensor([18, 47, 56, 57, 58,  1, 15, 47, 58, 47])\n",
        "print(data[:10])\n"
      ],
      "metadata": {
        "colab": {
          "base_uri": "https://localhost:8080/"
        },
        "id": "beG5lKa_wLem",
        "outputId": "f525f7af-91d4-4325-f8ef-c299245e7888"
      },
      "execution_count": 21,
      "outputs": [
        {
          "output_type": "stream",
          "name": "stdout",
          "text": [
            "[18, 47, 56, 57, 58, 1, 15, 47, 58, 47]\n",
            "torch.Size([1115394]) torch.int64\n",
            "tensor([18, 47, 56, 57, 58,  1, 15, 47, 58, 47])\n"
          ]
        }
      ]
    },
    {
      "cell_type": "code",
      "source": [
        "# Let's now split up the data into train and validation sets\n",
        "print(len(data)) # 1115394\n",
        "print(0.9*len(data)) # 1003854.6\n",
        "n = int(0.9*len(data)) # first 90% will be train, rest val\n",
        "train_data = data[:n] # training data\n",
        "val_data = data[n:]\n",
        "\n",
        "# we don't send ALL data to transformer at once to train it on\n",
        "# we send in chunks"
      ],
      "metadata": {
        "colab": {
          "base_uri": "https://localhost:8080/"
        },
        "id": "1MGu05BifBbA",
        "outputId": "98f0975d-bc3c-4ff9-fcc3-622a8cf151e7"
      },
      "execution_count": 23,
      "outputs": [
        {
          "output_type": "stream",
          "name": "stdout",
          "text": [
            "1115394\n",
            "1003854.6\n"
          ]
        }
      ]
    },
    {
      "cell_type": "code",
      "source": [
        "# chunk size  =8\n",
        "block_size = 8\n",
        "train_data[:block_size + 1]\n"
      ],
      "metadata": {
        "colab": {
          "base_uri": "https://localhost:8080/"
        },
        "id": "a1OL_TxwlQI9",
        "outputId": "ded05a81-b248-4252-b34f-26da9ad212eb"
      },
      "execution_count": 24,
      "outputs": [
        {
          "output_type": "stream",
          "name": "stdout",
          "text": [
            "tensor([18, 47, 56, 57, 58,  1, 15, 47, 58])\n"
          ]
        }
      ]
    },
    {
      "cell_type": "code",
      "source": [
        "# if 18, then next is 47\n",
        "# if 18, 47, then next is 56\n",
        "# if 18, 47, 56 then next is 57\n",
        "print(range(1, block_size), \"range\")\n",
        "for i in range(1, block_size+1):\n",
        "    context = train_data[:i] # All previous values\n",
        "    target = train_data[i]\n",
        "    print(f\"Input: {context} → Target: {target}\")\n",
        "\n",
        "# these are the 8 examples hidden in the chunk of 8\n",
        "# we train on all 8 examples\n",
        "# we go from 1 to 8 one by one, to make transformer get used to see a context as\n",
        "# little as 1 and as big as 8\n",
        "\n",
        "# x = train_data[:block_size]\n",
        "# y = train_data[1:block_size+1]\n",
        "# for t in range(block_size):\n",
        "#     context = x[:t+1]\n",
        "#     target = y[t]\n",
        "#     print(f\"when input is {context} the target: {target}\")"
      ],
      "metadata": {
        "colab": {
          "base_uri": "https://localhost:8080/"
        },
        "id": "XliTHjGfuenL",
        "outputId": "bba5700b-31aa-47f7-94a0-f0a9fb088235"
      },
      "execution_count": 26,
      "outputs": [
        {
          "output_type": "stream",
          "name": "stdout",
          "text": [
            "range(1, 8) range\n",
            "Input: tensor([18]) → Target: 47\n",
            "Input: tensor([18, 47]) → Target: 56\n",
            "Input: tensor([18, 47, 56]) → Target: 57\n",
            "Input: tensor([18, 47, 56, 57]) → Target: 58\n",
            "Input: tensor([18, 47, 56, 57, 58]) → Target: 1\n",
            "Input: tensor([18, 47, 56, 57, 58,  1]) → Target: 15\n",
            "Input: tensor([18, 47, 56, 57, 58,  1, 15]) → Target: 47\n",
            "Input: tensor([18, 47, 56, 57, 58,  1, 15, 47]) → Target: 58\n"
          ]
        }
      ]
    },
    {
      "cell_type": "code",
      "source": [
        "# that was time dimension\n",
        "# now onto batch dimension. use GPU i.e.? for parallel processing. each batch is unaware of others\n",
        "# process chunks parallelly\n",
        "\n",
        "# Set random seed for torch's randint() so that same random numbers are generated everytime\n",
        "torch.manual_seed(1337)\n",
        "\n",
        "batch_size = 4 # how many independent sequences will we process in parallel?\n",
        "block_size = 8 # what is the maximum context length for predictions?\n",
        "\n",
        "def get_batch():\n",
        "\n",
        "    # (batch_size,) = How many such sequences (contexts) you want to process in parallel\n",
        "    # len(data) - block_size = max starting index\n",
        "    # ix = will give 4 index b/w 0 to length of my train_data\n",
        "    ix = torch.randint(len(train_data) - block_size, (batch_size,))\n",
        "    print(ix, \"random indices\") # tensor([ 76049, 234249, 934904, 560986])\n",
        "\n",
        "    # stack is just used to make a 2D tensor\n",
        "    # context stack - 32 independent examples\n",
        "    x = torch.stack([train_data[i:i+block_size] for i in ix])\n",
        "    # targets stack\n",
        "    y = torch.stack([data[i+1:i+block_size+1] for i in ix])\n",
        "    return x, y\n",
        "\n",
        "xb, yb = get_batch()\n",
        "print(xb)\n",
        "print(yb)\n",
        "print (\"......\")\n",
        "\n",
        "# diff b/w range and enumerate and just simple for i in ix ?\n",
        "\n",
        "for b in range(batch_size): # batch dimension\n",
        "    for t in range(block_size): # time dimension\n",
        "        context = xb[b, :t+1]\n",
        "        target = yb[b,t]\n",
        "        print(f\"when input is {context.tolist()} the target: {target}\")"
      ],
      "metadata": {
        "colab": {
          "base_uri": "https://localhost:8080/"
        },
        "id": "mAeXCDFC4D_8",
        "outputId": "56ca5666-88d3-4761-ed2a-b8d4fe0a5fa1"
      },
      "execution_count": 34,
      "outputs": [
        {
          "output_type": "stream",
          "name": "stdout",
          "text": [
            "tensor([ 76049, 234249, 934904, 560986]) random indices\n",
            "tensor([[24, 43, 58,  5, 57,  1, 46, 43],\n",
            "        [44, 53, 56,  1, 58, 46, 39, 58],\n",
            "        [52, 58,  1, 58, 46, 39, 58,  1],\n",
            "        [25, 17, 27, 10,  0, 21,  1, 54]])\n",
            "tensor([[43, 58,  5, 57,  1, 46, 43, 39],\n",
            "        [53, 56,  1, 58, 46, 39, 58,  1],\n",
            "        [58,  1, 58, 46, 39, 58,  1, 46],\n",
            "        [17, 27, 10,  0, 21,  1, 54, 39]])\n",
            "......\n",
            "when input is [24] the target: 43\n",
            "when input is [24, 43] the target: 58\n",
            "when input is [24, 43, 58] the target: 5\n",
            "when input is [24, 43, 58, 5] the target: 57\n",
            "when input is [24, 43, 58, 5, 57] the target: 1\n",
            "when input is [24, 43, 58, 5, 57, 1] the target: 46\n",
            "when input is [24, 43, 58, 5, 57, 1, 46] the target: 43\n",
            "when input is [24, 43, 58, 5, 57, 1, 46, 43] the target: 39\n",
            "when input is [44] the target: 53\n",
            "when input is [44, 53] the target: 56\n",
            "when input is [44, 53, 56] the target: 1\n",
            "when input is [44, 53, 56, 1] the target: 58\n",
            "when input is [44, 53, 56, 1, 58] the target: 46\n",
            "when input is [44, 53, 56, 1, 58, 46] the target: 39\n",
            "when input is [44, 53, 56, 1, 58, 46, 39] the target: 58\n",
            "when input is [44, 53, 56, 1, 58, 46, 39, 58] the target: 1\n",
            "when input is [52] the target: 58\n",
            "when input is [52, 58] the target: 1\n",
            "when input is [52, 58, 1] the target: 58\n",
            "when input is [52, 58, 1, 58] the target: 46\n",
            "when input is [52, 58, 1, 58, 46] the target: 39\n",
            "when input is [52, 58, 1, 58, 46, 39] the target: 58\n",
            "when input is [52, 58, 1, 58, 46, 39, 58] the target: 1\n",
            "when input is [52, 58, 1, 58, 46, 39, 58, 1] the target: 46\n",
            "when input is [25] the target: 17\n",
            "when input is [25, 17] the target: 27\n",
            "when input is [25, 17, 27] the target: 10\n",
            "when input is [25, 17, 27, 10] the target: 0\n",
            "when input is [25, 17, 27, 10, 0] the target: 21\n",
            "when input is [25, 17, 27, 10, 0, 21] the target: 1\n",
            "when input is [25, 17, 27, 10, 0, 21, 1] the target: 54\n",
            "when input is [25, 17, 27, 10, 0, 21, 1, 54] the target: 39\n"
          ]
        }
      ]
    },
    {
      "cell_type": "code",
      "source": [
        "# input to the transformer is a 2D tensor. which will be xb. 8 * 4 = 32 examples.\n",
        "# 1 row has 8 examples, [1], [1,2], [1,2,3] ... etc\n",
        "print(xb)"
      ],
      "metadata": {
        "colab": {
          "base_uri": "https://localhost:8080/"
        },
        "id": "x1jfXcvRhB8q",
        "outputId": "37cd28dc-3f57-42c6-e518-dbfb9cfa772f"
      },
      "execution_count": 35,
      "outputs": [
        {
          "output_type": "stream",
          "name": "stdout",
          "text": [
            "tensor([[24, 43, 58,  5, 57,  1, 46, 43],\n",
            "        [44, 53, 56,  1, 58, 46, 39, 58],\n",
            "        [52, 58,  1, 58, 46, 39, 58,  1],\n",
            "        [25, 17, 27, 10,  0, 21,  1, 54]])\n"
          ]
        }
      ]
    }
  ]
}